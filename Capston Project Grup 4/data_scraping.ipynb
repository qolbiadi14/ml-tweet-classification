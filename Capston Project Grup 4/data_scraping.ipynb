{
 "cells": [
  {
   "cell_type": "code",
   "execution_count": 1,
   "metadata": {},
   "outputs": [
    {
     "ename": "ModuleNotFoundError",
     "evalue": "No module named 'openpyxl'",
     "output_type": "error",
     "traceback": [
      "\u001b[1;31m---------------------------------------------------------------------------\u001b[0m",
      "\u001b[1;31mModuleNotFoundError\u001b[0m                       Traceback (most recent call last)",
      "Cell \u001b[1;32mIn[1], line 3\u001b[0m\n\u001b[0;32m      1\u001b[0m \u001b[38;5;28;01mimport\u001b[39;00m \u001b[38;5;21;01mrequests\u001b[39;00m\n\u001b[0;32m      2\u001b[0m \u001b[38;5;28;01mimport\u001b[39;00m \u001b[38;5;21;01mpandas\u001b[39;00m \u001b[38;5;28;01mas\u001b[39;00m \u001b[38;5;21;01mpd\u001b[39;00m\n\u001b[1;32m----> 3\u001b[0m \u001b[38;5;28;01mimport\u001b[39;00m \u001b[38;5;21;01mopenpyxl\u001b[39;00m\n",
      "\u001b[1;31mModuleNotFoundError\u001b[0m: No module named 'openpyxl'"
     ]
    }
   ],
   "source": [
    "import requests\n",
    "import pandas as pd\n",
    "import openpyxl"
   ]
  },
  {
   "cell_type": "code",
   "execution_count": 2,
   "metadata": {},
   "outputs": [],
   "source": [
    "twitter_data = []"
   ]
  },
  {
   "cell_type": "code",
   "execution_count": 9,
   "metadata": {},
   "outputs": [],
   "source": [
    "payload = {\n",
    "    'api_key' : 'e80228513265d64f43a50814f25adab2',\n",
    "    'query' : 'toxic', # >> ubah query untuk mencari data yang diinginkan <<\n",
    "    'num' : 1000\n",
    "}\n",
    "\n",
    "response = requests.get('https://api.scraperapi.com/structured/twitter/search', params=payload)\n",
    "\n",
    "data = response.json()"
   ]
  },
  {
   "cell_type": "code",
   "execution_count": 10,
   "metadata": {},
   "outputs": [
    {
     "data": {
      "text/plain": [
       "{'search_information': {'query_displayed': 'site:twitter.com \"toxic\"'},\n",
       " 'organic_results': [{'position': 0,\n",
       "   'title': 'Toxic',\n",
       "   'snippet': 'Gray-ponytailed sysadmin, Potty mouth, Web 0.96β apologist, Unix wrangler, builder, and master of one finger opinions. Also on mastodon as @toxic@xyzyx.org.',\n",
       "   'highlighs': ['toxic'],\n",
       "   'link': 'https://twitter.com/toxic',\n",
       "   'displayed_link': 'https://twitter.com › toxic'},\n",
       "  {'position': 1,\n",
       "   'title': 'Toxic Tweets (@toxic_tweets) / X',\n",
       "   'snippet': \"Toxic Tweets · @toxic_tweets. ·. Mar 5, 2023. It's March baseball. Annual Keith ... Toxic Tweets · @toxic_tweets. ·. Nov 1, 2022. How crazy is the. @ECU_EM · @\\xa0...\",\n",
       "   'highlighs': ['Toxic', 'Toxic'],\n",
       "   'link': 'https://twitter.com/toxic_tweets',\n",
       "   'displayed_link': 'https://twitter.com › toxic_tweets'},\n",
       "  {'position': 2,\n",
       "   'title': 'Toxic (@__IAmToxic) / X',\n",
       "   'snippet': \"I work and chill at home. I don't be on shit. Just tryna be lowkey, rich, and happy. 92 · Toxic · @__IAmToxic. ·.\",\n",
       "   'highlighs': ['Toxic'],\n",
       "   'link': 'https://twitter.com/__iamtoxic',\n",
       "   'displayed_link': 'https://twitter.com › __iamtoxic'},\n",
       "  {'position': 3,\n",
       "   'title': 'Toxic (@ToxicLakers) / X',\n",
       "   'snippet': \"... | A11Even | Rui FC | Priv. @nottoxiclakers. |. Honolulu, HI Joined March 2021. 977 Following · 1,678 Followers · Posts · Replies · Highlights · Media. Toxic's\\xa0...\",\n",
       "   'highlighs': [\"Toxic's\"],\n",
       "   'link': 'https://twitter.com/toxiclakers',\n",
       "   'displayed_link': 'https://twitter.com › toxiclakers'},\n",
       "  {'position': 4,\n",
       "   'title': 'TOXIC (@Toxic_themovie) / X',\n",
       "   'snippet': \"and the entire team of #TOXIC all the very best! We can't wait to see what's in store! And the whole world is waiting for this CHAOS to begin!\",\n",
       "   'highlighs': ['TOXIC'],\n",
       "   'link': 'https://twitter.com/toxic_themovie',\n",
       "   'displayed_link': 'https://twitter.com › toxic_themovie'},\n",
       "  {'position': 5,\n",
       "   'title': '𝐓𝐨𝐱𝐢𝐜𝐎𝐟𝐟𝐞𝐧𝐜𝐞 (@Toxic__10_) ...',\n",
       "   'snippet': '@Toxic__10_. ·. Dec 10, 2022 · #BMD VLS are fully integrated on #INSAnvesh hope for next test from #INSAnvesh · @Parthu_Potluri · @GODOFPARADOXES · @raflanker.',\n",
       "   'highlighs': ['Toxic'],\n",
       "   'link': 'https://twitter.com/toxic__10_',\n",
       "   'displayed_link': 'https://twitter.com › toxic__10_'},\n",
       "  {'position': 6,\n",
       "   'title': 'Adam Grant',\n",
       "   'snippet': 'Calling people \"toxic\" is rarely helpful. It focuses on their impact instead of their actions. Toxicity comes in 5 flavors: disrespectful,\\xa0...',\n",
       "   'highlighs': ['toxic'],\n",
       "   'link': 'https://twitter.com/AdamMGrant/status/1775515753053073593',\n",
       "   'displayed_link': 'https://twitter.com › AdamMGrant › status'},\n",
       "  {'position': 7,\n",
       "   'title': '\"enjoy your toxic relationship while you\\'re in it. life is pretty ...',\n",
       "   'snippet': \"enjoy your toxic relationship while you're in it. life is pretty boring when you have self respect and someone isn't randomly always trying\\xa0...\",\n",
       "   'highlighs': ['toxic'],\n",
       "   'link': 'https://twitter.com/blackprints/status/1678826813961961472',\n",
       "   'displayed_link': 'https://twitter.com › blackprints › status'},\n",
       "  {'position': 8,\n",
       "   'title': 'I remember them toxic relationships. Whole day be ruined ...',\n",
       "   'snippet': 'I remember them toxic relationships. Whole day be ruined by 8am sharp.',\n",
       "   'highlighs': ['toxic'],\n",
       "   'link': 'https://twitter.com/777jorgeivan/status/1429143948396699653',\n",
       "   'displayed_link': 'https://twitter.com › status'},\n",
       "  {'position': 9,\n",
       "   'title': 'SeriesHaunted - Toxic',\n",
       "   'snippet': 'Toxic. @SeriesHaunted. Engineer || Unlucky in love. Nepal Joined August 2022. 268 Following · 128 Followers · Posts · Replies · Media · Likes. Toxic    \\xa0...',\n",
       "   'highlighs': ['Toxic', 'Toxic'],\n",
       "   'link': 'https://twitter.com/SeriesHaunted',\n",
       "   'displayed_link': 'https://twitter.com › SeriesHaunted'}],\n",
       " 'pagination': {'load_more_url': 'http://api.scraperapi.com/?url=https%3A%2F%2Fwww.google.com%2Fsearch%3Fq%3Dsite%3Atwitter.com%2B%2522toxic%2522%26sca_esv%3D68ec23b20c823977%26sca_upv%3D1%26gl%3DUS%26ei%3DcPlWZpaBGbnbptQPgvae2AQ%26start%3D10%26sa%3DN&autoparse=true',\n",
       "  'pages_count': 1}}"
      ]
     },
     "execution_count": 10,
     "metadata": {},
     "output_type": "execute_result"
    }
   ],
   "source": [
    "data"
   ]
  },
  {
   "cell_type": "code",
   "execution_count": 5,
   "metadata": {},
   "outputs": [
    {
     "data": {
      "text/plain": [
       "dict_keys(['search_information', 'organic_results', 'pagination'])"
      ]
     },
     "execution_count": 5,
     "metadata": {},
     "output_type": "execute_result"
    }
   ],
   "source": [
    "data.keys()"
   ]
  },
  {
   "cell_type": "code",
   "execution_count": 6,
   "metadata": {},
   "outputs": [
    {
     "data": {
      "text/plain": [
       "{'query_displayed': 'site:twitter.com \"covid\"'}"
      ]
     },
     "execution_count": 6,
     "metadata": {},
     "output_type": "execute_result"
    }
   ],
   "source": [
    "data['search_information']"
   ]
  },
  {
   "cell_type": "code",
   "execution_count": 7,
   "metadata": {},
   "outputs": [
    {
     "data": {
      "text/plain": [
       "[{'position': 0,\n",
       "  'title': 'COVID-19 Questions and Answers',\n",
       "  'snippet': \"CDCDirector answers your questions on COVID! Here's what we know about #COVID19 right now and how to keep you and your family protected.\",\n",
       "  'highlighs': ['COVID'],\n",
       "  'link': 'https://twitter.com/CDCgov/status/1695182347820486733',\n",
       "  'displayed_link': 'https://twitter.com › CDCgov › status'},\n",
       " {'position': 1,\n",
       "  'title': 'CDC - X.com',\n",
       "  'snippet': \"Your next COVID-19 infection could be your worst, so don't gamble with your health. Vaccination reduces risks and severity and keeps you\\xa0...\",\n",
       "  'highlighs': ['COVID'],\n",
       "  'link': 'https://twitter.com/CDCgov/status/1753089614405947811',\n",
       "  'displayed_link': 'https://twitter.com › CDCgov › status'},\n",
       " {'position': 2,\n",
       "  'title': 'White House COVID-19 Response Team',\n",
       "  'snippet': \"White House COVID-19 Response Team's posts ... Today we approved the first respiratory syncytial virus (RSV) vaccine, approved for use in the U.S., to prevent\\xa0...\",\n",
       "  'highlighs': ['COVID'],\n",
       "  'link': 'https://twitter.com/whcovidresponse',\n",
       "  'displayed_link': 'https://twitter.com › whcovidresponse'},\n",
       " {'position': 3,\n",
       "  'title': 'US FDA',\n",
       "  'snippet': 'As the agency has previously stated, barring any new major changes to circulating virus, the FDA expects that the composition of COVID-19\\xa0...',\n",
       "  'highlighs': ['COVID'],\n",
       "  'link': 'https://twitter.com/US_FDA/status/1762110132781994167',\n",
       "  'displayed_link': 'https://twitter.com › US_FDA › status'},\n",
       " {'position': 4,\n",
       "  'title': 'HHS.gov (@HHSGov) / X',\n",
       "  'snippet': 'Outbreaks of chickenpox, influenza, and COVID-19 have been reported and can spread quickly on cruise ships. Learn more: https://bit.ly/2PIleAZ. Young couple\\xa0...',\n",
       "  'highlighs': ['COVID'],\n",
       "  'link': 'https://twitter.com/hhsgov',\n",
       "  'displayed_link': 'https://twitter.com › hhsgov'},\n",
       " {'position': 5,\n",
       "  'title': 'Ziyad Al-Aly, MD (@zalaly) / X',\n",
       "  'snippet': '\"The burden of disease and disability from Long COVID is on par with the burden of cancer and heart disease. The best way to prevent Long COVID is to\\xa0...',\n",
       "  'highlighs': ['COVID', 'COVID'],\n",
       "  'link': 'https://twitter.com/zalaly',\n",
       "  'displayed_link': 'https://twitter.com › zalaly'},\n",
       " {'position': 6,\n",
       "  'title': 'The COVID Tracking Project (@COVID19Tracking) ...',\n",
       "  'snippet': \"It's been valuable for us to revisit our year with COVID-19 data. In this post, we dig into our history of reporting tests, cases, deaths, hospitalizations, and\\xa0...\",\n",
       "  'highlighs': ['COVID'],\n",
       "  'link': 'https://twitter.com/covid19tracking',\n",
       "  'displayed_link': 'https://twitter.com › covid19tracking'},\n",
       " {'position': 7,\n",
       "  'title': 'COVID19 - over as a global health emergency. ...',\n",
       "  'snippet': \"... COVID-19 is over as a global health threat. Last week, COVID-19 claimed a life every three minutes – and that's just the deaths we know\\xa0...\",\n",
       "  'highlighs': ['COVID', 'COVID'],\n",
       "  'link': 'https://twitter.com/WHO/status/1654477334139863041',\n",
       "  'displayed_link': 'https://twitter.com › WHO › status'},\n",
       " {'position': 8,\n",
       "  'title': 'HHS.gov',\n",
       "  'snippet': 'The more often you get COVID, the higher your risk of complications. Get added protection with an updated vaccine today. Find free updated COVID',\n",
       "  'highlighs': ['COVID', 'COVID'],\n",
       "  'link': 'https://twitter.com/HHSGov/status/1679883484142206978',\n",
       "  'displayed_link': 'https://twitter.com › HHSGov › status'},\n",
       " {'position': 9,\n",
       "  'title': 'HHS.gov - X.com',\n",
       "  'snippet': 'Repeat COVID infections increase your risk for both hospitalization and Long COVID. Get a free updated vaccine and restore your protection.',\n",
       "  'highlighs': ['COVID', 'COVID'],\n",
       "  'link': 'https://twitter.com/HHSGov/status/1659589815887712256',\n",
       "  'displayed_link': 'https://twitter.com › HHSGov › status'}]"
      ]
     },
     "execution_count": 7,
     "metadata": {},
     "output_type": "execute_result"
    }
   ],
   "source": [
    "data['organic_results']"
   ]
  },
  {
   "cell_type": "code",
   "execution_count": 8,
   "metadata": {},
   "outputs": [],
   "source": [
    "all_tweets = data ['organic_results']\n",
    "for tweet in all_tweets:\n",
    "    twitter_data.append(tweet)"
   ]
  },
  {
   "cell_type": "code",
   "execution_count": 9,
   "metadata": {},
   "outputs": [
    {
     "name": "stdout",
     "output_type": "stream",
     "text": [
      "file exported\n"
     ]
    }
   ],
   "source": [
    "df = pd.DataFrame(twitter_data)\n",
    "df.to_json('tweet.json', orient = 'index')\n",
    "print(\"file exported\")"
   ]
  },
  {
   "cell_type": "code",
   "execution_count": 10,
   "metadata": {},
   "outputs": [
    {
     "data": {
      "text/html": [
       "<div>\n",
       "<style scoped>\n",
       "    .dataframe tbody tr th:only-of-type {\n",
       "        vertical-align: middle;\n",
       "    }\n",
       "\n",
       "    .dataframe tbody tr th {\n",
       "        vertical-align: top;\n",
       "    }\n",
       "\n",
       "    .dataframe thead th {\n",
       "        text-align: right;\n",
       "    }\n",
       "</style>\n",
       "<table border=\"1\" class=\"dataframe\">\n",
       "  <thead>\n",
       "    <tr style=\"text-align: right;\">\n",
       "      <th></th>\n",
       "      <th>position</th>\n",
       "      <th>title</th>\n",
       "      <th>snippet</th>\n",
       "      <th>highlighs</th>\n",
       "      <th>link</th>\n",
       "      <th>displayed_link</th>\n",
       "    </tr>\n",
       "  </thead>\n",
       "  <tbody>\n",
       "    <tr>\n",
       "      <th>0</th>\n",
       "      <td>0</td>\n",
       "      <td>CDC - X.com</td>\n",
       "      <td>Your next COVID-19 infection could be your wor...</td>\n",
       "      <td>[COVID]</td>\n",
       "      <td>https://twitter.com/CDCgov/status/175308961440...</td>\n",
       "      <td>https://twitter.com › CDCgov › status</td>\n",
       "    </tr>\n",
       "    <tr>\n",
       "      <th>1</th>\n",
       "      <td>1</td>\n",
       "      <td>COVID-19 Questions and Answers</td>\n",
       "      <td>CDCDirector answers your questions on COVID! H...</td>\n",
       "      <td>[COVID]</td>\n",
       "      <td>https://twitter.com/CDCgov/status/169518234782...</td>\n",
       "      <td>https://twitter.com › CDCgov › status</td>\n",
       "    </tr>\n",
       "    <tr>\n",
       "      <th>2</th>\n",
       "      <td>2</td>\n",
       "      <td>Ministry of Health - X.com</td>\n",
       "      <td>Myth: COVID-19 vaccination caused excess death...</td>\n",
       "      <td>[COVID, COVID]</td>\n",
       "      <td>https://twitter.com/MOHSingapore/status/179501...</td>\n",
       "      <td>https://twitter.com › MOHSingapore › status</td>\n",
       "    </tr>\n",
       "    <tr>\n",
       "      <th>3</th>\n",
       "      <td>3</td>\n",
       "      <td>White House COVID-19 Response Team</td>\n",
       "      <td>White House COVID-19 Response Team's posts ......</td>\n",
       "      <td>[COVID]</td>\n",
       "      <td>https://twitter.com/whcovidresponse</td>\n",
       "      <td>https://twitter.com › whcovidresponse</td>\n",
       "    </tr>\n",
       "    <tr>\n",
       "      <th>4</th>\n",
       "      <td>4</td>\n",
       "      <td>Ziyad Al-Aly, MD (@zalaly) / X</td>\n",
       "      <td>\"The burden of disease and disability from Lon...</td>\n",
       "      <td>[COVID, COVID]</td>\n",
       "      <td>https://twitter.com/zalaly</td>\n",
       "      <td>https://twitter.com › zalaly</td>\n",
       "    </tr>\n",
       "    <tr>\n",
       "      <th>5</th>\n",
       "      <td>5</td>\n",
       "      <td>US FDA</td>\n",
       "      <td>As the agency has previously stated, barring a...</td>\n",
       "      <td>[COVID]</td>\n",
       "      <td>https://twitter.com/US_FDA/status/176211013278...</td>\n",
       "      <td>https://twitter.com › US_FDA › status</td>\n",
       "    </tr>\n",
       "    <tr>\n",
       "      <th>6</th>\n",
       "      <td>6</td>\n",
       "      <td>over as a global health emergency. However, th...</td>\n",
       "      <td>... COVID-19 is over as a global health threat...</td>\n",
       "      <td>[COVID, COVID]</td>\n",
       "      <td>https://twitter.com/WHO/status/165447733413986...</td>\n",
       "      <td>https://twitter.com › WHO › status</td>\n",
       "    </tr>\n",
       "    <tr>\n",
       "      <th>7</th>\n",
       "      <td>7</td>\n",
       "      <td>The COVID Tracking Project (@COVID19Tracking) ...</td>\n",
       "      <td>It's been valuable for us to revisit our year ...</td>\n",
       "      <td>[COVID]</td>\n",
       "      <td>https://twitter.com/covid19tracking</td>\n",
       "      <td>https://twitter.com › covid19tracking</td>\n",
       "    </tr>\n",
       "    <tr>\n",
       "      <th>8</th>\n",
       "      <td>8</td>\n",
       "      <td>HHS.gov</td>\n",
       "      <td>The more often you get COVID, the higher your ...</td>\n",
       "      <td>[COVID, COVID]</td>\n",
       "      <td>https://twitter.com/HHSGov/status/167988348414...</td>\n",
       "      <td>https://twitter.com › HHSGov › status</td>\n",
       "    </tr>\n",
       "    <tr>\n",
       "      <th>9</th>\n",
       "      <td>9</td>\n",
       "      <td>HHS.gov - X.com</td>\n",
       "      <td>Repeat COVID infections increase your risk for...</td>\n",
       "      <td>[COVID, COVID]</td>\n",
       "      <td>https://twitter.com/HHSGov/status/165958981588...</td>\n",
       "      <td>https://twitter.com › HHSGov › status</td>\n",
       "    </tr>\n",
       "  </tbody>\n",
       "</table>\n",
       "</div>"
      ],
      "text/plain": [
       "   position                                              title  \\\n",
       "0         0                                        CDC - X.com   \n",
       "1         1                     COVID-19 Questions and Answers   \n",
       "2         2                         Ministry of Health - X.com   \n",
       "3         3                 White House COVID-19 Response Team   \n",
       "4         4                     Ziyad Al-Aly, MD (@zalaly) / X   \n",
       "5         5                                             US FDA   \n",
       "6         6  over as a global health emergency. However, th...   \n",
       "7         7  The COVID Tracking Project (@COVID19Tracking) ...   \n",
       "8         8                                            HHS.gov   \n",
       "9         9                                    HHS.gov - X.com   \n",
       "\n",
       "                                             snippet       highlighs  \\\n",
       "0  Your next COVID-19 infection could be your wor...         [COVID]   \n",
       "1  CDCDirector answers your questions on COVID! H...         [COVID]   \n",
       "2  Myth: COVID-19 vaccination caused excess death...  [COVID, COVID]   \n",
       "3  White House COVID-19 Response Team's posts ......         [COVID]   \n",
       "4  \"The burden of disease and disability from Lon...  [COVID, COVID]   \n",
       "5  As the agency has previously stated, barring a...         [COVID]   \n",
       "6  ... COVID-19 is over as a global health threat...  [COVID, COVID]   \n",
       "7  It's been valuable for us to revisit our year ...         [COVID]   \n",
       "8  The more often you get COVID, the higher your ...  [COVID, COVID]   \n",
       "9  Repeat COVID infections increase your risk for...  [COVID, COVID]   \n",
       "\n",
       "                                                link  \\\n",
       "0  https://twitter.com/CDCgov/status/175308961440...   \n",
       "1  https://twitter.com/CDCgov/status/169518234782...   \n",
       "2  https://twitter.com/MOHSingapore/status/179501...   \n",
       "3                https://twitter.com/whcovidresponse   \n",
       "4                         https://twitter.com/zalaly   \n",
       "5  https://twitter.com/US_FDA/status/176211013278...   \n",
       "6  https://twitter.com/WHO/status/165447733413986...   \n",
       "7                https://twitter.com/covid19tracking   \n",
       "8  https://twitter.com/HHSGov/status/167988348414...   \n",
       "9  https://twitter.com/HHSGov/status/165958981588...   \n",
       "\n",
       "                                displayed_link  \n",
       "0        https://twitter.com › CDCgov › status  \n",
       "1        https://twitter.com › CDCgov › status  \n",
       "2  https://twitter.com › MOHSingapore › status  \n",
       "3        https://twitter.com › whcovidresponse  \n",
       "4                 https://twitter.com › zalaly  \n",
       "5        https://twitter.com › US_FDA › status  \n",
       "6           https://twitter.com › WHO › status  \n",
       "7        https://twitter.com › covid19tracking  \n",
       "8        https://twitter.com › HHSGov › status  \n",
       "9        https://twitter.com › HHSGov › status  "
      ]
     },
     "execution_count": 10,
     "metadata": {},
     "output_type": "execute_result"
    }
   ],
   "source": [
    "df"
   ]
  },
  {
   "cell_type": "code",
   "execution_count": 11,
   "metadata": {},
   "outputs": [],
   "source": [
    "df.to_excel(\"data_twitter_covid.xlsx\", sheet_name = 'Sheet_name_1')"
   ]
  }
 ],
 "metadata": {
  "kernelspec": {
   "display_name": "Python 3",
   "language": "python",
   "name": "python3"
  },
  "language_info": {
   "codemirror_mode": {
    "name": "ipython",
    "version": 3
   },
   "file_extension": ".py",
   "mimetype": "text/x-python",
   "name": "python",
   "nbconvert_exporter": "python",
   "pygments_lexer": "ipython3",
   "version": "3.12.3"
  },
  "orig_nbformat": 4
 },
 "nbformat": 4,
 "nbformat_minor": 2
}
